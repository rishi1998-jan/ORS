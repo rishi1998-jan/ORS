{
  "nbformat": 4,
  "nbformat_minor": 0,
  "metadata": {
    "colab": {
      "name": "String_Practice.ipynb",
      "provenance": [],
      "collapsed_sections": [],
      "authorship_tag": "ABX9TyPdEwpsOr+G3aZcFQlcLd7r",
      "include_colab_link": true
    },
    "kernelspec": {
      "name": "python3",
      "display_name": "Python 3"
    },
    "language_info": {
      "name": "python"
    }
  },
  "cells": [
    {
      "cell_type": "markdown",
      "metadata": {
        "id": "view-in-github",
        "colab_type": "text"
      },
      "source": [
        "<a href=\"https://colab.research.google.com/github/rishi1998-jan/ORS/blob/main/String_Practice.ipynb\" target=\"_parent\"><img src=\"https://colab.research.google.com/assets/colab-badge.svg\" alt=\"Open In Colab\"/></a>"
      ]
    },
    {
      "cell_type": "markdown",
      "metadata": {
        "id": "2ueT9IMqMHcH"
      },
      "source": [
        "# String Practice"
      ]
    },
    {
      "cell_type": "markdown",
      "metadata": {
        "id": "pBCT9t24MhfM"
      },
      "source": [
        "#Q1 what is string\n",
        "Ans: Any sequence of character within either single quode or double quode is called string\n"
      ]
    },
    {
      "cell_type": "code",
      "metadata": {
        "colab": {
          "base_uri": "https://localhost:8080/"
        },
        "id": "ueD-SSfQN4Sw",
        "outputId": "71077f06-52b0-470a-afa3-22ef7504719e"
      },
      "source": [
        "ch= 'rishi'\n",
        "print(type(ch))"
      ],
      "execution_count": null,
      "outputs": [
        {
          "output_type": "stream",
          "name": "stdout",
          "text": [
            "<class 'str'>\n"
          ]
        }
      ]
    },
    {
      "cell_type": "markdown",
      "metadata": {
        "id": "bxFN5t2vOcWq"
      },
      "source": [
        "# Multi line string print"
      ]
    },
    {
      "cell_type": "markdown",
      "metadata": {
        "id": "RIYbTtSkOkjc"
      },
      "source": [
        "we want multi line string so we use triple code "
      ]
    },
    {
      "cell_type": "code",
      "metadata": {
        "colab": {
          "base_uri": "https://localhost:8080/",
          "height": 35
        },
        "id": "sSWDUtICOyMN",
        "outputId": "67e486dc-b315-4e56-fabd-9275a1b6715c"
      },
      "source": [
        "\"'Hello i am rishi'\""
      ],
      "execution_count": null,
      "outputs": [
        {
          "output_type": "execute_result",
          "data": {
            "application/vnd.google.colaboratory.intrinsic+json": {
              "type": "string"
            },
            "text/plain": [
              "\"'Hello i am rishi'\""
            ]
          },
          "metadata": {},
          "execution_count": 2
        }
      ]
    },
    {
      "cell_type": "markdown",
      "metadata": {
        "id": "fYl2vWD4PrrZ"
      },
      "source": [
        "# how to access characters of a String\n"
      ]
    },
    {
      "cell_type": "markdown",
      "metadata": {
        "id": "XaIQB8rsQVfa"
      },
      "source": [
        "Ans we can access character of a string into two way\n",
        "1) By using Indexing;\n"
      ]
    },
    {
      "cell_type": "code",
      "metadata": {
        "colab": {
          "base_uri": "https://localhost:8080/"
        },
        "id": "IEuM-W8ARLOc",
        "outputId": "57e10e68-4944-45dd-aced-17d3686c0361"
      },
      "source": [
        "s = 'Rishi'\n",
        "print(s[2])"
      ],
      "execution_count": null,
      "outputs": [
        {
          "output_type": "stream",
          "name": "stdout",
          "text": [
            "s\n"
          ]
        }
      ]
    },
    {
      "cell_type": "markdown",
      "metadata": {
        "id": "V8hxE_0BRfA9"
      },
      "source": [
        "# Write a program to accept some string from the keyborad and display its character by index wise.\n",
        "\n",
        "---\n",
        "\n"
      ]
    },
    {
      "cell_type": "code",
      "metadata": {
        "colab": {
          "base_uri": "https://localhost:8080/"
        },
        "id": "aUyo2T17aZdj",
        "outputId": "4430d00f-be15-4888-d21b-1465fcd422a1"
      },
      "source": [
        "s=input(\"enter a str\")\n",
        "i = 0\n",
        "\n",
        "\n",
        "for x in s:\n",
        "  t =i-len(s)\n",
        "  print(f\"positive index[{i}] charecter {x} Negitive index[{t}]\")\n",
        "  i =i+1\n",
        "  \n",
        " \n",
        " \n",
        " \n",
        "  \n",
        " "
      ],
      "execution_count": null,
      "outputs": [
        {
          "output_type": "stream",
          "name": "stdout",
          "text": [
            "enter a strrishi\n",
            "positive index[0] charecter r Negitive index[-5]\n",
            "positive index[1] charecter i Negitive index[-4]\n",
            "positive index[2] charecter s Negitive index[-3]\n",
            "positive index[3] charecter h Negitive index[-2]\n",
            "positive index[4] charecter i Negitive index[-1]\n"
          ]
        }
      ]
    },
    {
      "cell_type": "markdown",
      "metadata": {
        "id": "4HR2qdVVvdlo"
      },
      "source": [
        "# Accessing character by using slice operatore\n",
        "str[start:stop:step]"
      ]
    },
    {
      "cell_type": "code",
      "metadata": {
        "colab": {
          "base_uri": "https://localhost:8080/"
        },
        "id": "mJphHz3cv9x_",
        "outputId": "dd97baa3-1b3c-4ce6-ab79-d19d2bc8b988"
      },
      "source": [
        "s = \"python time\"\n",
        "print(s[0:9:1])\n",
        "\n",
        "print(s[::-1])"
      ],
      "execution_count": null,
      "outputs": [
        {
          "output_type": "stream",
          "name": "stdout",
          "text": [
            "python ti\n",
            "emit nohtyp\n"
          ]
        }
      ]
    },
    {
      "cell_type": "markdown",
      "metadata": {
        "id": "uZpvwAvV0dlB"
      },
      "source": [
        "Q2. write a programe to access each character of string in forward and backward direction by using while loop\n"
      ]
    },
    {
      "cell_type": "code",
      "metadata": {
        "colab": {
          "base_uri": "https://localhost:8080/"
        },
        "id": "gC5eLEvD1hLx",
        "outputId": "bf9cc1ae-1ce2-4d79-e817-512cf1ad6fc0"
      },
      "source": [
        "s= \"rishi\"\n",
        "for i in s:\n",
        "  print(i,end='')\n",
        "for i in s[::-1]:\n",
        "  print(i,end='')  \n"
      ],
      "execution_count": null,
      "outputs": [
        {
          "output_type": "stream",
          "name": "stdout",
          "text": [
            "rishiihsir"
          ]
        }
      ]
    },
    {
      "cell_type": "code",
      "metadata": {
        "colab": {
          "base_uri": "https://localhost:8080/"
        },
        "id": "MDiYLUjh3uRM",
        "outputId": "1c61c506-cd01-41c9-bffa-2a06ba1ca02b"
      },
      "source": [
        "s= \"rishi\"\n",
        "n=len(s)\n",
        "i=0\n",
        "while i<n:\n",
        "  print(s[i])\n",
        "  i=i+1"
      ],
      "execution_count": null,
      "outputs": [
        {
          "output_type": "stream",
          "name": "stdout",
          "text": [
            "r\n",
            "i\n",
            "s\n",
            "h\n",
            "i\n"
          ]
        }
      ]
    },
    {
      "cell_type": "code",
      "metadata": {
        "colab": {
          "base_uri": "https://localhost:8080/"
        },
        "id": "r5vyH1KJ5qHz",
        "outputId": "96ec4f34-2e37-4022-e810-9126128a88a9"
      },
      "source": [
        "s=\"patel\"\n",
        "n=len(s)\n",
        "i=-1\n",
        "while i>=-n:\n",
        "  print(s[i],end='')\n",
        "  i=i-1\n",
        "  "
      ],
      "execution_count": null,
      "outputs": [
        {
          "output_type": "stream",
          "name": "stdout",
          "text": [
            "letap"
          ]
        }
      ]
    },
    {
      "cell_type": "markdown",
      "metadata": {
        "id": "la2pfA3S8HxK"
      },
      "source": [
        "membership operater (in)"
      ]
    },
    {
      "cell_type": "code",
      "metadata": {
        "colab": {
          "base_uri": "https://localhost:8080/"
        },
        "id": "RJX7FhmA9Xwg",
        "outputId": "8b3cbd58-3e3a-407e-f84a-56bba390bbc9"
      },
      "source": [
        "subs=\"patel\"\n",
        "i=\"patel\"\n",
        "if subs in i:\n",
        "  print(i,\"is present \")\n",
        "else:\n",
        "  print(i,\"is not present\")  "
      ],
      "execution_count": null,
      "outputs": [
        {
          "output_type": "stream",
          "name": "stdout",
          "text": [
            "patel is present \n"
          ]
        }
      ]
    },
    {
      "cell_type": "code",
      "metadata": {
        "colab": {
          "base_uri": "https://localhost:8080/"
        },
        "id": "Y_Wik3dKDIpE",
        "outputId": "39f4ac33-2ced-4910-88dd-71b0e308d8e1"
      },
      "source": [
        "s= \"rishi\"\n",
        "print(i in s)"
      ],
      "execution_count": null,
      "outputs": [
        {
          "output_type": "stream",
          "name": "stdout",
          "text": [
            "False\n"
          ]
        }
      ]
    },
    {
      "cell_type": "markdown",
      "metadata": {
        "id": "S-5h0uUMD-PQ"
      },
      "source": [
        "# Comparison of string\n",
        "\n",
        "---\n",
        "we use comparision operatores(<,<=,>,>=)and equality operators(==,!=) for string\n"
      ]
    },
    {
      "cell_type": "code",
      "metadata": {
        "colab": {
          "base_uri": "https://localhost:8080/"
        },
        "id": "CY2U44RdEh9t",
        "outputId": "9bacbc66-fd57-421e-ff43-27d033c30633"
      },
      "source": [
        "s1=input(\"enter s1\")\n",
        "s2=input(\"enter s2\")\n",
        "if s1==s2:\n",
        "  print(\"both str are equal\")\n",
        "elif s1>s2:\n",
        "  print(\"s1 is grater than s2\")\n",
        " \n",
        "else:\n",
        "  print(\"s1 is not greater than s2\")  \n"
      ],
      "execution_count": null,
      "outputs": [
        {
          "output_type": "stream",
          "name": "stdout",
          "text": [
            "enter s1rishi\n",
            "enter s2eeeeee\n",
            "s1 is lower than s2\n"
          ]
        }
      ]
    },
    {
      "cell_type": "markdown",
      "metadata": {
        "id": "ObtoEC6JHfSU"
      },
      "source": [
        "# Removing spaces from the string\n",
        "we uses three methods\n",
        "\n",
        "\n",
        "---\n",
        "1.rstrip()==>To remove space at right hand side\n",
        "2.lstrip()==>To remove space at left hand side\n",
        "3.strip()==>To remove spaces both side\n"
      ]
    },
    {
      "cell_type": "code",
      "metadata": {
        "colab": {
          "base_uri": "https://localhost:8080/"
        },
        "id": "bz4RZWqSIpKp",
        "outputId": "f7e13c75-1c37-4e83-bc2f-67ae8cef94b4"
      },
      "source": [
        "s=input(\"enter\")\n",
        "print(s)\n",
        "print(\"strip.....\",s.strip())\n"
      ],
      "execution_count": null,
      "outputs": [
        {
          "output_type": "stream",
          "name": "stdout",
          "text": [
            "enter   rishi\n",
            "   rishi\n",
            "strip..... rishi\n"
          ]
        }
      ]
    },
    {
      "cell_type": "markdown",
      "metadata": {
        "id": "_Pg5QbrQLntx"
      },
      "source": [
        "# finding Substrings\n",
        "we can use 4 mehtod to find sunstring\n",
        "\n",
        "---\n",
        "For forward direction \n",
        "1. find()\n",
        "2.index()                                                                       \n",
        "for backward direction \n",
        "1.  rfind()\n",
        "2. rindex()\n",
        "\n",
        "---\n",
        "\n",
        "# 1 find():\n",
        "s.find(substring)\n",
        "returns index of first occurence of the given substring. if not available then we will get -1 \n",
        "\n",
        "\n"
      ]
    },
    {
      "cell_type": "code",
      "metadata": {
        "colab": {
          "base_uri": "https://localhost:8080/"
        },
        "id": "qbbTx6oZQ7LN",
        "outputId": "165c3bc5-6c60-4ad9-9d7c-6dff7f017677"
      },
      "source": [
        "s = \"rishikesh patel\"\n",
        "print(s.find(\"patel\"))\n",
        "print(s.find(\"python\"))"
      ],
      "execution_count": null,
      "outputs": [
        {
          "output_type": "stream",
          "name": "stdout",
          "text": [
            "10\n",
            "-1\n"
          ]
        }
      ]
    },
    {
      "cell_type": "markdown",
      "metadata": {
        "id": "CnrYNPAzSlLE"
      },
      "source": [
        "# index() method:\n",
        "index() method is exectly same as find() method except that if the specified substring is not available then we get ValueError"
      ]
    },
    {
      "cell_type": "code",
      "metadata": {
        "id": "PZ0-FQrdTvn0"
      },
      "source": [
        ""
      ],
      "execution_count": null,
      "outputs": []
    }
  ]
}